{
 "cells": [
  {
   "cell_type": "markdown",
   "id": "b7d5b25a",
   "metadata": {},
   "source": [
    "# Birthweight Regression Model\n",
    " - By Marius Heje Mæhle"
   ]
  },
  {
   "cell_type": "code",
   "execution_count": 33,
   "id": "ee3667bf",
   "metadata": {
    "scrolled": true
   },
   "outputs": [
    {
     "data": {
      "text/html": [
       "<div>\n",
       "<style scoped>\n",
       "    .dataframe tbody tr th:only-of-type {\n",
       "        vertical-align: middle;\n",
       "    }\n",
       "\n",
       "    .dataframe tbody tr th {\n",
       "        vertical-align: top;\n",
       "    }\n",
       "\n",
       "    .dataframe thead th {\n",
       "        text-align: right;\n",
       "    }\n",
       "</style>\n",
       "<table border=\"1\" class=\"dataframe\">\n",
       "  <thead>\n",
       "    <tr style=\"text-align: right;\">\n",
       "      <th></th>\n",
       "      <th>mage</th>\n",
       "      <th>meduc</th>\n",
       "      <th>monpre</th>\n",
       "      <th>npvis</th>\n",
       "      <th>fage</th>\n",
       "      <th>feduc</th>\n",
       "      <th>omaps</th>\n",
       "      <th>fmaps</th>\n",
       "      <th>cigs</th>\n",
       "      <th>drink</th>\n",
       "      <th>male</th>\n",
       "      <th>mwhte</th>\n",
       "      <th>mblck</th>\n",
       "      <th>moth</th>\n",
       "      <th>fwhte</th>\n",
       "      <th>fblck</th>\n",
       "      <th>foth</th>\n",
       "      <th>bwght</th>\n",
       "    </tr>\n",
       "  </thead>\n",
       "  <tbody>\n",
       "    <tr>\n",
       "      <th>0</th>\n",
       "      <td>23</td>\n",
       "      <td>11.0</td>\n",
       "      <td>4</td>\n",
       "      <td>11.0</td>\n",
       "      <td>46</td>\n",
       "      <td>12.0</td>\n",
       "      <td>8</td>\n",
       "      <td>9</td>\n",
       "      <td>13</td>\n",
       "      <td>4</td>\n",
       "      <td>0</td>\n",
       "      <td>0</td>\n",
       "      <td>0</td>\n",
       "      <td>1</td>\n",
       "      <td>0</td>\n",
       "      <td>1</td>\n",
       "      <td>0</td>\n",
       "      <td>3600</td>\n",
       "    </tr>\n",
       "    <tr>\n",
       "      <th>1</th>\n",
       "      <td>23</td>\n",
       "      <td>16.0</td>\n",
       "      <td>3</td>\n",
       "      <td>10.0</td>\n",
       "      <td>50</td>\n",
       "      <td>12.0</td>\n",
       "      <td>3</td>\n",
       "      <td>8</td>\n",
       "      <td>1</td>\n",
       "      <td>1</td>\n",
       "      <td>1</td>\n",
       "      <td>0</td>\n",
       "      <td>1</td>\n",
       "      <td>0</td>\n",
       "      <td>0</td>\n",
       "      <td>1</td>\n",
       "      <td>0</td>\n",
       "      <td>3912</td>\n",
       "    </tr>\n",
       "    <tr>\n",
       "      <th>2</th>\n",
       "      <td>24</td>\n",
       "      <td>16.0</td>\n",
       "      <td>1</td>\n",
       "      <td>12.0</td>\n",
       "      <td>26</td>\n",
       "      <td>16.0</td>\n",
       "      <td>6</td>\n",
       "      <td>9</td>\n",
       "      <td>21</td>\n",
       "      <td>4</td>\n",
       "      <td>0</td>\n",
       "      <td>0</td>\n",
       "      <td>0</td>\n",
       "      <td>1</td>\n",
       "      <td>0</td>\n",
       "      <td>0</td>\n",
       "      <td>1</td>\n",
       "      <td>3090</td>\n",
       "    </tr>\n",
       "    <tr>\n",
       "      <th>3</th>\n",
       "      <td>25</td>\n",
       "      <td>14.0</td>\n",
       "      <td>3</td>\n",
       "      <td>12.0</td>\n",
       "      <td>33</td>\n",
       "      <td>12.0</td>\n",
       "      <td>9</td>\n",
       "      <td>9</td>\n",
       "      <td>12</td>\n",
       "      <td>7</td>\n",
       "      <td>1</td>\n",
       "      <td>0</td>\n",
       "      <td>1</td>\n",
       "      <td>0</td>\n",
       "      <td>0</td>\n",
       "      <td>1</td>\n",
       "      <td>0</td>\n",
       "      <td>3370</td>\n",
       "    </tr>\n",
       "    <tr>\n",
       "      <th>4</th>\n",
       "      <td>25</td>\n",
       "      <td>12.0</td>\n",
       "      <td>2</td>\n",
       "      <td>8.0</td>\n",
       "      <td>32</td>\n",
       "      <td>12.0</td>\n",
       "      <td>9</td>\n",
       "      <td>9</td>\n",
       "      <td>4</td>\n",
       "      <td>3</td>\n",
       "      <td>0</td>\n",
       "      <td>0</td>\n",
       "      <td>1</td>\n",
       "      <td>0</td>\n",
       "      <td>0</td>\n",
       "      <td>1</td>\n",
       "      <td>0</td>\n",
       "      <td>3827</td>\n",
       "    </tr>\n",
       "    <tr>\n",
       "      <th>5</th>\n",
       "      <td>26</td>\n",
       "      <td>12.0</td>\n",
       "      <td>1</td>\n",
       "      <td>10.0</td>\n",
       "      <td>24</td>\n",
       "      <td>12.0</td>\n",
       "      <td>8</td>\n",
       "      <td>9</td>\n",
       "      <td>6</td>\n",
       "      <td>8</td>\n",
       "      <td>1</td>\n",
       "      <td>0</td>\n",
       "      <td>0</td>\n",
       "      <td>1</td>\n",
       "      <td>0</td>\n",
       "      <td>0</td>\n",
       "      <td>1</td>\n",
       "      <td>2778</td>\n",
       "    </tr>\n",
       "    <tr>\n",
       "      <th>6</th>\n",
       "      <td>26</td>\n",
       "      <td>13.0</td>\n",
       "      <td>7</td>\n",
       "      <td>11.0</td>\n",
       "      <td>42</td>\n",
       "      <td>NaN</td>\n",
       "      <td>9</td>\n",
       "      <td>9</td>\n",
       "      <td>2</td>\n",
       "      <td>4</td>\n",
       "      <td>1</td>\n",
       "      <td>0</td>\n",
       "      <td>1</td>\n",
       "      <td>0</td>\n",
       "      <td>1</td>\n",
       "      <td>0</td>\n",
       "      <td>0</td>\n",
       "      <td>3170</td>\n",
       "    </tr>\n",
       "    <tr>\n",
       "      <th>7</th>\n",
       "      <td>26</td>\n",
       "      <td>11.0</td>\n",
       "      <td>1</td>\n",
       "      <td>12.0</td>\n",
       "      <td>44</td>\n",
       "      <td>12.0</td>\n",
       "      <td>9</td>\n",
       "      <td>9</td>\n",
       "      <td>10</td>\n",
       "      <td>4</td>\n",
       "      <td>1</td>\n",
       "      <td>0</td>\n",
       "      <td>1</td>\n",
       "      <td>0</td>\n",
       "      <td>0</td>\n",
       "      <td>1</td>\n",
       "      <td>0</td>\n",
       "      <td>3310</td>\n",
       "    </tr>\n",
       "    <tr>\n",
       "      <th>8</th>\n",
       "      <td>26</td>\n",
       "      <td>16.0</td>\n",
       "      <td>2</td>\n",
       "      <td>10.0</td>\n",
       "      <td>24</td>\n",
       "      <td>16.0</td>\n",
       "      <td>9</td>\n",
       "      <td>9</td>\n",
       "      <td>11</td>\n",
       "      <td>4</td>\n",
       "      <td>1</td>\n",
       "      <td>0</td>\n",
       "      <td>1</td>\n",
       "      <td>0</td>\n",
       "      <td>0</td>\n",
       "      <td>1</td>\n",
       "      <td>0</td>\n",
       "      <td>3730</td>\n",
       "    </tr>\n",
       "    <tr>\n",
       "      <th>9</th>\n",
       "      <td>26</td>\n",
       "      <td>12.0</td>\n",
       "      <td>1</td>\n",
       "      <td>12.0</td>\n",
       "      <td>32</td>\n",
       "      <td>12.0</td>\n",
       "      <td>9</td>\n",
       "      <td>9</td>\n",
       "      <td>6</td>\n",
       "      <td>0</td>\n",
       "      <td>1</td>\n",
       "      <td>0</td>\n",
       "      <td>1</td>\n",
       "      <td>0</td>\n",
       "      <td>0</td>\n",
       "      <td>1</td>\n",
       "      <td>0</td>\n",
       "      <td>3912</td>\n",
       "    </tr>\n",
       "  </tbody>\n",
       "</table>\n",
       "</div>"
      ],
      "text/plain": [
       "   mage  meduc  monpre  npvis  fage  feduc  omaps  fmaps  cigs  drink  male  mwhte  mblck  moth  fwhte  fblck  foth  bwght\n",
       "0    23   11.0       4   11.0    46   12.0      8      9    13      4     0      0      0     1      0      1     0   3600\n",
       "1    23   16.0       3   10.0    50   12.0      3      8     1      1     1      0      1     0      0      1     0   3912\n",
       "2    24   16.0       1   12.0    26   16.0      6      9    21      4     0      0      0     1      0      0     1   3090\n",
       "3    25   14.0       3   12.0    33   12.0      9      9    12      7     1      0      1     0      0      1     0   3370\n",
       "4    25   12.0       2    8.0    32   12.0      9      9     4      3     0      0      1     0      0      1     0   3827\n",
       "5    26   12.0       1   10.0    24   12.0      8      9     6      8     1      0      0     1      0      0     1   2778\n",
       "6    26   13.0       7   11.0    42    NaN      9      9     2      4     1      0      1     0      1      0     0   3170\n",
       "7    26   11.0       1   12.0    44   12.0      9      9    10      4     1      0      1     0      0      1     0   3310\n",
       "8    26   16.0       2   10.0    24   16.0      9      9    11      4     1      0      1     0      0      1     0   3730\n",
       "9    26   12.0       1   12.0    32   12.0      9      9     6      0     1      0      1     0      0      1     0   3912"
      ]
     },
     "execution_count": 33,
     "metadata": {},
     "output_type": "execute_result"
    }
   ],
   "source": [
    "# importing needed libraries\n",
    "import pandas as pd # data science essentials\n",
    "import matplotlib.pyplot as plt # essential graphical output\n",
    "import seaborn as sns # enhanced graphical output\n",
    "import statsmodels.formula.api as smf # linear regression (statsmodels)\n",
    "from sklearn.model_selection import train_test_split # train/test split\n",
    "from sklearn.linear_model import LinearRegression # linear regression (scikit-learn)\n",
    "\n",
    "\n",
    "# setting pandas print options\n",
    "pd.set_option('display.max_rows', 500)\n",
    "pd.set_option('display.max_columns', 500)\n",
    "pd.set_option('display.width', 1000)\n",
    "\n",
    "\n",
    "# specifying file name\n",
    "file = './__datasets/birthweight_low.xlsx'\n",
    "\n",
    "\n",
    "# reading the file into Python\n",
    "birth = pd.read_excel(file)\n",
    "\n",
    "\n",
    "# outputting the first ten rows of the dataset to check the data\n",
    "birth.head(n = 10)"
   ]
  },
  {
   "cell_type": "code",
   "execution_count": 34,
   "id": "74502f3f",
   "metadata": {},
   "outputs": [
    {
     "name": "stdout",
     "output_type": "stream",
     "text": [
      "<class 'pandas.core.frame.DataFrame'>\n",
      "RangeIndex: 352 entries, 0 to 351\n",
      "Data columns (total 18 columns):\n",
      " #   Column  Non-Null Count  Dtype  \n",
      "---  ------  --------------  -----  \n",
      " 0   mage    352 non-null    int64  \n",
      " 1   meduc   349 non-null    float64\n",
      " 2   monpre  352 non-null    int64  \n",
      " 3   npvis   349 non-null    float64\n",
      " 4   fage    352 non-null    int64  \n",
      " 5   feduc   345 non-null    float64\n",
      " 6   omaps   352 non-null    int64  \n",
      " 7   fmaps   352 non-null    int64  \n",
      " 8   cigs    352 non-null    int64  \n",
      " 9   drink   352 non-null    int64  \n",
      " 10  male    352 non-null    int64  \n",
      " 11  mwhte   352 non-null    int64  \n",
      " 12  mblck   352 non-null    int64  \n",
      " 13  moth    352 non-null    int64  \n",
      " 14  fwhte   352 non-null    int64  \n",
      " 15  fblck   352 non-null    int64  \n",
      " 16  foth    352 non-null    int64  \n",
      " 17  bwght   352 non-null    int64  \n",
      "dtypes: float64(3), int64(15)\n",
      "memory usage: 49.6 KB\n"
     ]
    }
   ],
   "source": [
    "# INFOrmation about each variable\n",
    "birth.info(verbose = True)"
   ]
  },
  {
   "cell_type": "markdown",
   "id": "5ee0063c",
   "metadata": {},
   "source": [
    "# Missing Values"
   ]
  },
  {
   "cell_type": "code",
   "execution_count": 35,
   "id": "2c20f3f1",
   "metadata": {
    "scrolled": false
   },
   "outputs": [
    {
     "data": {
      "text/plain": [
       "mage      0\n",
       "meduc     3\n",
       "monpre    0\n",
       "npvis     3\n",
       "fage      0\n",
       "feduc     7\n",
       "omaps     0\n",
       "fmaps     0\n",
       "cigs      0\n",
       "drink     0\n",
       "male      0\n",
       "mwhte     0\n",
       "mblck     0\n",
       "moth      0\n",
       "fwhte     0\n",
       "fblck     0\n",
       "foth      0\n",
       "bwght     0\n",
       "dtype: int64"
      ]
     },
     "execution_count": 35,
     "metadata": {},
     "output_type": "execute_result"
    }
   ],
   "source": [
    "#checking for NAs\n",
    "birth.isna().sum(axis = 0)"
   ]
  },
  {
   "cell_type": "markdown",
   "id": "f9882f19",
   "metadata": {},
   "source": [
    "Missing values is in : \n",
    "   meduc - mother's education. \n",
    "   npvis -  total number of prenatal visits. \n",
    "   feduc -  father's educ, years.  \n",
    "   \n",
    "   "
   ]
  },
  {
   "cell_type": "code",
   "execution_count": 36,
   "id": "70812ea6",
   "metadata": {},
   "outputs": [
    {
     "data": {
      "image/png": "[encoded data removed]",
      "text/plain": [
       "<Figure size 432x288 with 1 Axes>"
      ]
     },
     "metadata": {
      "needs_background": "light"
     },
     "output_type": "display_data"
    }
   ],
   "source": [
    "# creating a dropped dataset to visualize 'meduc'\n",
    "df_dropped = birth.dropna()\n",
    "\n",
    "\n",
    "# displaying the plot for 'meduc'\n",
    "sns.histplot(x = \"meduc\",\n",
    "            data = df_dropped,\n",
    "            kde = True)\n",
    "\n",
    "\n",
    "# title and labels\n",
    "plt.title(\"\"\"Distribution of Mother's Education\"\"\")\n",
    "\n",
    "\n",
    "# displaying the plot\n",
    "plt.show()"
   ]
  },
  {
   "cell_type": "code",
   "execution_count": 37,
   "id": "637a0610",
   "metadata": {},
   "outputs": [],
   "source": [
    "# imputing everything else with the zero\n",
    "\n",
    "# meduc\n",
    "fill = 0\n",
    "birth['meduc'] = birth['meduc'].fillna(value = fill)\n",
    "\n",
    "\n",
    "# npvis\n",
    "fill = 0\n",
    "birth['npvis'] = birth['npvis'].fillna(value = fill)\n",
    "\n",
    "# feduc\n",
    "fill = 0\n",
    "birth['feduc'] = birth['feduc'].fillna(value = fill)"
   ]
  },
  {
   "cell_type": "code",
   "execution_count": 38,
   "id": "906a915d",
   "metadata": {},
   "outputs": [
    {
     "data": {
      "text/plain": [
       "False"
      ]
     },
     "execution_count": 38,
     "metadata": {},
     "output_type": "execute_result"
    }
   ],
   "source": [
    "# making sure all missing values have been taken care of\n",
    "birth.isnull().any(axis = 0).any(axis = 0)"
   ]
  },
  {
   "cell_type": "markdown",
   "id": "5b43b08f",
   "metadata": {},
   "source": [
    "# Correlation"
   ]
  },
  {
   "cell_type": "code",
   "execution_count": 39,
   "id": "b7065132",
   "metadata": {
    "scrolled": true
   },
   "outputs": [
    {
     "data": {
      "text/plain": [
       "bwght     1.00\n",
       "fmaps     0.46\n",
       "omaps     0.45\n",
       "npvis     0.28\n",
       "meduc     0.21\n",
       "feduc     0.19\n",
       "moth      0.10\n",
       "foth      0.05\n",
       "mblck     0.04\n",
       "fblck     0.03\n",
       "monpre    0.02\n",
       "male      0.02\n",
       "fwhte    -0.07\n",
       "mwhte    -0.14\n",
       "mage     -0.48\n",
       "cigs     -0.57\n",
       "fage     -0.58\n",
       "drink    -0.67\n",
       "Name: bwght, dtype: float64"
      ]
     },
     "execution_count": 39,
     "metadata": {},
     "output_type": "execute_result"
    }
   ],
   "source": [
    "# developing a correlation matrix based on the continuous features\n",
    "birth_corr = birth.corr(method = 'pearson')\n",
    "\n",
    "\n",
    "# filtering the results to only show correlations with Sale_Price\n",
    "birth_corr.loc[ : , \"bwght\"].round(decimals = 2).sort_values(ascending = False)"
   ]
  },
  {
   "cell_type": "markdown",
   "id": "b300e2dd",
   "metadata": {},
   "source": [
    "# Histograms\n",
    "- To check for their normal distributions and if it's needed to do any log"
   ]
  },
  {
   "cell_type": "code",
   "execution_count": 40,
   "id": "0d9b80ae",
   "metadata": {},
   "outputs": [
    {
     "data": {
      "image/png": "[encoded data removed]",
      "text/plain": [
       "<Figure size 432x288 with 1 Axes>"
      ]
     },
     "metadata": {
      "needs_background": "light"
     },
     "output_type": "display_data"
    },
    {
     "data": {
      "image/png": "[encoded data removed]",
      "text/plain": [
       "<Figure size 432x288 with 1 Axes>"
      ]
     },
     "metadata": {
      "needs_background": "light"
     },
     "output_type": "display_data"
    },
    {
     "data": {
      "image/png": "[encoded data removed]",
      "text/plain": [
       "<Figure size 432x288 with 1 Axes>"
      ]
     },
     "metadata": {
      "needs_background": "light"
     },
     "output_type": "display_data"
    },
    {
     "data": {
      "image/png": "[encoded data removed]",
      "text/plain": [
       "<Figure size 432x288 with 1 Axes>"
      ]
     },
     "metadata": {
      "needs_background": "light"
     },
     "output_type": "display_data"
    },
    {
     "data": {
      "image/png": "[encoded data removed]",
      "text/plain": [
       "<Figure size 432x288 with 1 Axes>"
      ]
     },
     "metadata": {
      "needs_background": "light"
     },
     "output_type": "display_data"
    },
    {
     "data": {
      "image/png": "[encoded data removed]",
      "text/plain": [
       "<Figure size 432x288 with 1 Axes>"
      ]
     },
     "metadata": {
      "needs_background": "light"
     },
     "output_type": "display_data"
    },
    {
     "data": {
      "image/png": "[encoded data removed]",
      "text/plain": [
       "<Figure size 432x288 with 1 Axes>"
      ]
     },
     "metadata": {
      "needs_background": "light"
     },
     "output_type": "display_data"
    },
    {
     "data": {
      "image/png": "[encoded data removed]",
      "text/plain": [
       "<Figure size 432x288 with 1 Axes>"
      ]
     },
     "metadata": {
      "needs_background": "light"
     },
     "output_type": "display_data"
    },
    {
     "data": {
      "image/png": "[encoded data removed]",
      "text/plain": [
       "<Figure size 432x288 with 1 Axes>"
      ]
     },
     "metadata": {
      "needs_background": "light"
     },
     "output_type": "display_data"
    },
    {
     "data": {
      "image/png": "[encoded data removed]",
      "text/plain": [
       "<Figure size 432x288 with 1 Axes>"
      ]
     },
     "metadata": {
      "needs_background": "light"
     },
     "output_type": "display_data"
    },
    {
     "data": {
      "image/png": "[encoded data removed]",
      "text/plain": [
       "<Figure size 432x288 with 1 Axes>"
      ]
     },
     "metadata": {
      "needs_background": "light"
     },
     "output_type": "display_data"
    },
    {
     "data": {
      "image/png": "[encoded data removed]",
      "text/plain": [
       "<Figure size 432x288 with 1 Axes>"
      ]
     },
     "metadata": {
      "needs_background": "light"
     },
     "output_type": "display_data"
    },
    {
     "data": {
      "image/png": "[encoded data removed]",
      "text/plain": [
       "<Figure size 432x288 with 1 Axes>"
      ]
     },
     "metadata": {
      "needs_background": "light"
     },
     "output_type": "display_data"
    },
    {
     "data": {
      "image/png": "[encoded data removed]",
      "text/plain": [
       "<Figure size 432x288 with 1 Axes>"
      ]
     },
     "metadata": {
      "needs_background": "light"
     },
     "output_type": "display_data"
    },
    {
     "data": {
      "image/png": "[encoded data removed]",
      "text/plain": [
       "<Figure size 432x288 with 1 Axes>"
      ]
     },
     "metadata": {
      "needs_background": "light"
     },
     "output_type": "display_data"
    },
    {
     "data": {
      "image/png": "[encoded data removed]",
      "text/plain": [
       "<Figure size 432x288 with 1 Axes>"
      ]
     },
     "metadata": {
      "needs_background": "light"
     },
     "output_type": "display_data"
    },
    {
     "data": {
      "image/png": "[encoded data removed]",
      "text/plain": [
       "<Figure size 432x288 with 1 Axes>"
      ]
     },
     "metadata": {
      "needs_background": "light"
     },
     "output_type": "display_data"
    },
    {
     "data": {
      "image/png": "[encoded data removed]",
      "text/plain": [
       "<Figure size 432x288 with 1 Axes>"
      ]
     },
     "metadata": {
      "needs_background": "light"
     },
     "output_type": "display_data"
    }
   ],
   "source": [
    "# developing histograms using HISTPLOT for all the data variables\n",
    "for feature in birth:\n",
    "    sns.histplot(data   = birth,\n",
    "             x      = feature,\n",
    "             kde    = True)\n",
    "\n",
    "\n",
    "    # title and axis labels\n",
    "    plt.title(label   = feature)\n",
    "    plt.xlabel(xlabel = feature) # to avoid using the dataset labels\n",
    "    plt.ylabel(ylabel = \"Count\")\n",
    "\n",
    "    # displaying the histogram\n",
    "    plt.show()"
   ]
  },
  {
   "cell_type": "code",
   "execution_count": 41,
   "id": "6a4ff08d",
   "metadata": {},
   "outputs": [],
   "source": [
    "# log transforming bwght and saving it to the dataset\n",
    "birth['log_bwght'] = np.log(birth['bwght'])"
   ]
  },
  {
   "cell_type": "code",
   "execution_count": 42,
   "id": "b0ea8c00",
   "metadata": {
    "scrolled": true
   },
   "outputs": [
    {
     "data": {
      "image/png": "[encoded data removed]",
      "text/plain": [
       "<Figure size 432x288 with 1 Axes>"
      ]
     },
     "metadata": {
      "needs_background": "light"
     },
     "output_type": "display_data"
    }
   ],
   "source": [
    "# developing a histogram for log_bwght\n",
    "sns.histplot(data   = birth,\n",
    "             x      = 'log_bwght',\n",
    "             kde    = True)\n",
    "\n",
    "\n",
    "# title and axis labels\n",
    "plt.title(label   = \"Logarithmic Distribution of Birthweight, grams\")\n",
    "plt.xlabel(xlabel = \"Birthweight, grams\") # avoiding using dataset labels\n",
    "plt.ylabel(ylabel = \"Count\")\n",
    "\n",
    "# displaying the histogram\n",
    "plt.show()"
   ]
  },
  {
   "cell_type": "markdown",
   "id": "a3f27380",
   "metadata": {},
   "source": [
    "# Correlation"
   ]
  },
  {
   "cell_type": "code",
   "execution_count": 43,
   "id": "03544e12",
   "metadata": {},
   "outputs": [
    {
     "data": {
      "text/plain": [
       "log_bwght    1.00\n",
       "bwght        0.97\n",
       "fmaps        0.54\n",
       "omaps        0.51\n",
       "npvis        0.29\n",
       "meduc        0.27\n",
       "feduc        0.24\n",
       "moth         0.12\n",
       "foth         0.08\n",
       "monpre       0.02\n",
       "mblck        0.02\n",
       "fblck       -0.00\n",
       "male        -0.02\n",
       "fwhte       -0.07\n",
       "mwhte       -0.14\n",
       "mage        -0.49\n",
       "cigs        -0.58\n",
       "fage        -0.62\n",
       "drink       -0.65\n",
       "Name: log_bwght, dtype: float64"
      ]
     },
     "execution_count": 43,
     "metadata": {},
     "output_type": "execute_result"
    }
   ],
   "source": [
    "# developing a correlation matrix based on continuous features\n",
    "birth_corr = birth.corr(method = 'pearson')\n",
    "\n",
    "# filtering the results to only show correlations with log_bwght\n",
    "birth_corr.loc[ : , \"log_bwght\"].round(decimals = 2).sort_values(ascending = False)"
   ]
  },
  {
   "cell_type": "markdown",
   "id": "85b4da8b",
   "metadata": {},
   "source": [
    "# OLS - Regression Building and Results"
   ]
  },
  {
   "cell_type": "code",
   "execution_count": 44,
   "id": "6ceb164c",
   "metadata": {},
   "outputs": [
    {
     "name": "stdout",
     "output_type": "stream",
     "text": [
      "\n",
      "Training Data\n",
      "-------------\n",
      "X-side: (264, 18)\n",
      "y-side: (264,)\n",
      "\n",
      "\n",
      "Testing Data\n",
      "------------\n",
      "X-side: (88, 18)\n",
      "y-side: (88,)\n",
      "\n"
     ]
    }
   ],
   "source": [
    "# preparing explanatory variable data\n",
    "birth_data = birth.drop('log_bwght', axis = 1)\n",
    "\n",
    "\n",
    "# preparing response variables\n",
    "birth_target = birth.loc[ : , 'log_bwght']\n",
    "#log_birth_target = birth.loc[ : , 'bwght']\n",
    "\n",
    "\n",
    "# preparing training and testing sets (all letters are lowercase)\n",
    "x_train, x_test, y_train, y_test = train_test_split(\n",
    "            birth_data, #x data\n",
    "            birth_target, #y data\n",
    "            test_size = 0.25, #size of training set\n",
    "            random_state = 219) # lock in random sequence\n",
    "\n",
    "# checking the shapes of the datasets\n",
    "print(f\"\"\"\n",
    "Training Data\n",
    "-------------\n",
    "X-side: {x_train.shape}\n",
    "y-side: {y_train.shape}\n",
    "\n",
    "\n",
    "Testing Data\n",
    "------------\n",
    "X-side: {x_test.shape}\n",
    "y-side: {y_test.shape}\n",
    "\"\"\")"
   ]
  },
  {
   "cell_type": "code",
   "execution_count": 45,
   "id": "9baa9f6a",
   "metadata": {},
   "outputs": [
    {
     "name": "stdout",
     "output_type": "stream",
     "text": [
      "mage +\n",
      "meduc +\n",
      "monpre +\n",
      "npvis +\n",
      "fage +\n",
      "feduc +\n",
      "cigs +\n",
      "drink +\n",
      "male +\n",
      "mwhte +\n",
      "mblck +\n",
      "moth +\n",
      "fwhte +\n",
      "fblck +\n",
      "foth +\n"
     ]
    }
   ],
   "source": [
    "# declaring set of x-variables\n",
    "x_variables = ['mage', 'meduc', 'monpre',\n",
    "               'npvis', 'fage', 'feduc',\n",
    "               #'omaps', #'fmaps', \n",
    "               'cigs',\n",
    "               'drink', 'male', 'mwhte', 'mblck',\n",
    "               'moth', 'fwhte', 'fblck', 'foth']\n",
    "# dropping the ones with no relevance (ompas, fmaps)\n",
    "\n",
    "\n",
    "# looping to make x-variables suitable for statsmodels\n",
    "for val in x_variables:\n",
    "    print(f\"{val} +\")"
   ]
  },
  {
   "cell_type": "code",
   "execution_count": 46,
   "id": "612f7291",
   "metadata": {},
   "outputs": [
    {
     "name": "stdout",
     "output_type": "stream",
     "text": [
      "                            OLS Regression Results                            \n",
      "==============================================================================\n",
      "Dep. Variable:                  bwght   R-squared:                       0.602\n",
      "Model:                            OLS   Adj. R-squared:                  0.587\n",
      "Method:                 Least Squares   F-statistic:                     39.34\n",
      "Date:                Sun, 13 Mar 2022   Prob (F-statistic):           1.01e-59\n",
      "Time:                        21:14:42   Log-Likelihood:                -2670.6\n",
      "No. Observations:                 352   AIC:                             5369.\n",
      "Df Residuals:                     338   BIC:                             5423.\n",
      "Df Model:                          13                                         \n",
      "Covariance Type:            nonrobust                                         \n",
      "==============================================================================\n",
      "                 coef    std err          t      P>|t|      [0.025      0.975]\n",
      "------------------------------------------------------------------------------\n",
      "Intercept   2431.8313    165.316     14.710      0.000    2106.653    2757.009\n",
      "mage          -1.3840      3.581     -0.387      0.699      -8.427       5.659\n",
      "meduc         16.7895     12.676      1.325      0.186      -8.144      41.723\n",
      "monpre        10.3422     79.881      0.129      0.897    -146.785     167.469\n",
      "npvis         16.6019      4.315      3.847      0.000       8.113      25.090\n",
      "fage         -14.6062      3.269     -4.468      0.000     -21.036      -8.176\n",
      "feduc          2.8121     10.449      0.269      0.788     -17.742      23.366\n",
      "cigs         -28.5778      4.783     -5.974      0.000     -37.987     -19.169\n",
      "drink        -68.1620      9.042     -7.538      0.000     -85.948     -50.376\n",
      "male          35.6112     54.104      0.658      0.511     -70.811     142.033\n",
      "mwhte        674.5359     91.654      7.360      0.000     494.251     854.821\n",
      "mblck        816.6987    106.172      7.692      0.000     607.857    1025.540\n",
      "moth         940.5967    107.390      8.759      0.000     729.359    1151.834\n",
      "fwhte        800.3728     93.062      8.600      0.000     617.318     983.427\n",
      "fblck        867.8777    113.866      7.622      0.000     643.902    1091.854\n",
      "foth         763.5808     97.573      7.826      0.000     571.653     955.508\n",
      "==============================================================================\n",
      "Omnibus:                       16.289   Durbin-Watson:                   1.190\n",
      "Prob(Omnibus):                  0.000   Jarque-Bera (JB):               41.525\n",
      "Skew:                           0.021   Prob(JB):                     9.62e-10\n",
      "Kurtosis:                       4.682   Cond. No.                     5.46e+17\n",
      "==============================================================================\n",
      "\n",
      "Notes:\n",
      "[1] Standard Errors assume that the covariance matrix of the errors is correctly specified.\n",
      "[2] The smallest eigenvalue is 4.77e-30. This might indicate that there are\n",
      "strong multicollinearity problems or that the design matrix is singular.\n"
     ]
    }
   ],
   "source": [
    "# merging X_train and y_train so that they can be used in statsmodels\n",
    "birth_train = pd.concat([x_train, y_train], axis = 1)\n",
    "\n",
    "\n",
    "# Step 1: build a model\n",
    "lm_best = smf.ols(formula =  \"\"\"bwght ~ mage +\n",
    "                                        meduc + \n",
    "                                        monpre +\n",
    "                                        npvis + \n",
    "                                        fage + \n",
    "                                        feduc +\n",
    "                                        cigs +\n",
    "                                        drink +\n",
    "                                        male +\n",
    "                                        mwhte +\n",
    "                                        mblck +\n",
    "                                        moth + \n",
    "                                        fwhte + \n",
    "                                        fblck + \n",
    "                                        foth\"\"\",\n",
    "                                data = birth)\n",
    "                                        #not used - omaps + fmaps +\n",
    "\n",
    "\n",
    "# Step 2: fit the model based on the data\n",
    "results = lm_best.fit()\n",
    "\n",
    "\n",
    "\n",
    "# Step 3: analyze the summary output\n",
    "print(results.summary())"
   ]
  },
  {
   "cell_type": "code",
   "execution_count": 47,
   "id": "0a7f8f84",
   "metadata": {},
   "outputs": [
    {
     "name": "stdout",
     "output_type": "stream",
     "text": [
      "npvis +\n",
      "fage +\n",
      "cigs +\n",
      "drink +\n",
      "mwhte +\n",
      "mblck +\n",
      "moth +\n",
      "fwhte +\n",
      "fblck +\n",
      "foth +\n"
     ]
    }
   ],
   "source": [
    "# declaring a new set of x-variables\n",
    "x_variables = [\n",
    "                #'mage', 'meduc', 'monpre',\n",
    "               'npvis', 'fage', \n",
    "                #'feduc',\n",
    "               #'omaps', #'fmaps', \n",
    "               'cigs',\n",
    "               'drink', \n",
    "                #'male', \n",
    "                'mwhte', 'mblck',\n",
    "               'moth', 'fwhte', 'fblck', 'foth']\n",
    "# dropping the ones with no relevance (ompas, fmaps) and significant p-value\n",
    "\n",
    "\n",
    "# looping to make x-variables suitable for statsmodels\n",
    "for val in x_variables:\n",
    "    print(f\"{val} +\")"
   ]
  },
  {
   "cell_type": "code",
   "execution_count": 48,
   "id": "6b16332d",
   "metadata": {},
   "outputs": [
    {
     "name": "stdout",
     "output_type": "stream",
     "text": [
      "                            OLS Regression Results                            \n",
      "==============================================================================\n",
      "Dep. Variable:              log_bwght   R-squared:                       0.620\n",
      "Model:                            OLS   Adj. R-squared:                  0.611\n",
      "Method:                 Least Squares   F-statistic:                     69.90\n",
      "Date:                Sun, 13 Mar 2022   Prob (F-statistic):           1.94e-67\n",
      "Time:                        21:14:42   Log-Likelihood:                 109.71\n",
      "No. Observations:                 352   AIC:                            -201.4\n",
      "Df Residuals:                     343   BIC:                            -166.7\n",
      "Df Model:                           8                                         \n",
      "Covariance Type:            nonrobust                                         \n",
      "==============================================================================\n",
      "                 coef    std err          t      P>|t|      [0.025      0.975]\n",
      "------------------------------------------------------------------------------\n",
      "Intercept      5.1011      0.026    192.516      0.000       5.049       5.153\n",
      "npvis          0.0072      0.002      4.661      0.000       0.004       0.010\n",
      "fage          -0.0073      0.001     -7.479      0.000      -0.009      -0.005\n",
      "cigs          -0.0122      0.002     -6.994      0.000      -0.016      -0.009\n",
      "drink         -0.0213      0.003     -6.450      0.000      -0.028      -0.015\n",
      "mwhte          1.6517      0.030     54.787      0.000       1.592       1.711\n",
      "mblck          1.6950      0.031     54.408      0.000       1.634       1.756\n",
      "moth           1.7544      0.029     60.039      0.000       1.697       1.812\n",
      "fwhte          1.6850      0.027     62.443      0.000       1.632       1.738\n",
      "fblck          1.7147      0.034     50.095      0.000       1.647       1.782\n",
      "foth           1.7014      0.030     56.501      0.000       1.642       1.761\n",
      "==============================================================================\n",
      "Omnibus:                       76.862   Durbin-Watson:                   1.259\n",
      "Prob(Omnibus):                  0.000   Jarque-Bera (JB):              257.916\n",
      "Skew:                          -0.943   Prob(JB):                     9.87e-57\n",
      "Kurtosis:                       6.746   Cond. No.                     5.23e+17\n",
      "==============================================================================\n",
      "\n",
      "Notes:\n",
      "[1] Standard Errors assume that the covariance matrix of the errors is correctly specified.\n",
      "[2] The smallest eigenvalue is 2.73e-30. This might indicate that there are\n",
      "strong multicollinearity problems or that the design matrix is singular.\n"
     ]
    }
   ],
   "source": [
    "# merging X_train and y_train so that they can be used in statsmodels\n",
    "birth_train = pd.concat([x_train, y_train], axis = 1)\n",
    "\n",
    "\n",
    "# Step 1: build a model\n",
    "lm_best = smf.ols(formula =  \"\"\"log_bwght ~ \n",
    "                                        npvis + \n",
    "                                        fage + \n",
    "                                        cigs +\n",
    "                                        drink +\n",
    "                                        mwhte +\n",
    "                                        mblck +\n",
    "                                        moth + \n",
    "                                        fwhte + \n",
    "                                        fblck + \n",
    "                                        foth\"\"\",\n",
    "                                data = birth)\n",
    "#not used - omaps + fmaps + mage + meduc + monpre + feduc + male\n",
    "#Drropped the variables which wasnt relevant or to high p-value (not significant). \n",
    "\n",
    "# Step 2: fit the model based on the data\n",
    "results = lm_best.fit()\n",
    "\n",
    "\n",
    "\n",
    "# Step 3: analyze the summary output\n",
    "print(results.summary())"
   ]
  },
  {
   "cell_type": "markdown",
   "id": "d32fbf6d",
   "metadata": {},
   "source": [
    "# Model Development in scikit-learn\n",
    "- Creating OLS, LASSO, and ARD"
   ]
  },
  {
   "cell_type": "code",
   "execution_count": 49,
   "id": "9edd5b1f",
   "metadata": {},
   "outputs": [],
   "source": [
    "# applying modelin scikit-learn\n",
    "\n",
    "# preparing x-variables from the OLS model\n",
    "ols_data = birth.loc[ : , x_variables  ]\n",
    "\n",
    "\n",
    "# preparing response variable\n",
    "birth_target = birth.loc[ : , 'log_bwght' ]\n",
    "\n",
    "\n",
    "###############################################\n",
    "## setting up more than one train-test split ##\n",
    "###############################################\n",
    "# FULL X-dataset (normal Y)\n",
    "x_train_FULL, x_test_FULL, y_train_FULL, y_test_FULL = train_test_split(\n",
    "            birth_data,     # x-variables\n",
    "            birth_target,   # y-variable\n",
    "            test_size = 0.25,\n",
    "            random_state = 219)\n",
    "\n",
    "\n",
    "# OLS p-value x-dataset (normal Y)\n",
    "x_train_OLS, x_test_OLS, y_train_OLS, y_test_OLS = train_test_split(\n",
    "            ols_data,         # x-variables\n",
    "            birth_target,   # y-variable\n",
    "            test_size = 0.25,\n",
    "            random_state = 219)"
   ]
  },
  {
   "cell_type": "markdown",
   "id": "0f799c3f",
   "metadata": {},
   "source": [
    "# OLS"
   ]
  },
  {
   "cell_type": "code",
   "execution_count": 50,
   "id": "bf28ab01",
   "metadata": {},
   "outputs": [
    {
     "name": "stdout",
     "output_type": "stream",
     "text": [
      "OLS Training Score : 0.6028\n",
      "OLS Testing Score  : 0.6481\n",
      "OLS Train-Test Gap : 0.0453\n"
     ]
    }
   ],
   "source": [
    "# INSTANTIATING a model object\n",
    "lr = LinearRegression()\n",
    "\n",
    "\n",
    "# FITTING to the training data\n",
    "lr_fit = lr.fit(x_train_OLS, y_train_OLS)\n",
    "\n",
    "\n",
    "# PREDICTING on new data\n",
    "lr_pred = lr_fit.predict(x_test_OLS)\n",
    "\n",
    "\n",
    "# SCORING the results\n",
    "print('OLS Training Score :', lr.score(x_train_OLS, y_train_OLS).round(4))  # using R-square\n",
    "print('OLS Testing Score  :', lr.score(x_test_OLS, y_test_OLS).round(4)) # using R-square\n",
    "\n",
    "lr_train_score = lr.score(x_train_OLS, y_train_OLS).round(4)\n",
    "lr_test_score = lr.score(x_test_OLS, y_test_OLS).round(4)\n",
    "\n",
    "# displaying and saving the gap between training and testing\n",
    "print('OLS Train-Test Gap :', abs(lr_train_score - lr_test_score).round(4))\n",
    "lr_test_gap = abs(lr_train_score - lr_test_score).round(4)"
   ]
  },
  {
   "cell_type": "code",
   "execution_count": 51,
   "id": "8d347266",
   "metadata": {
    "scrolled": true
   },
   "outputs": [
    {
     "name": "stdout",
     "output_type": "stream",
     "text": [
      "('intercept', 8.49)\n",
      "('npvis', 0.01)\n",
      "('fage', -0.01)\n",
      "('cigs', -0.01)\n",
      "('drink', -0.02)\n",
      "('mwhte', -0.06)\n",
      "('mblck', -0.01)\n",
      "('moth', 0.07)\n",
      "('fwhte', -0.02)\n",
      "('fblck', 0.04)\n",
      "('foth', -0.02)\n"
     ]
    }
   ],
   "source": [
    "# zipping each feature name to its coefficient\n",
    "lr_model_values = zip(birth_data[x_variables].columns,\n",
    "                      lr_fit.coef_.round(decimals = 2))\n",
    "\n",
    "\n",
    "# setting up a placeholder list to store model features\n",
    "lr_model_lst = [('intercept', lr_fit.intercept_.round(decimals = 2))]\n",
    "\n",
    "\n",
    "# printing out each feature-coefficient pair one by one\n",
    "for val in lr_model_values:\n",
    "    lr_model_lst.append(val)\n",
    "    \n",
    "\n",
    "# checking the results\n",
    "for pair in lr_model_lst:\n",
    "    print(pair)"
   ]
  },
  {
   "cell_type": "markdown",
   "id": "6154491c",
   "metadata": {},
   "source": [
    "# LASSO"
   ]
  },
  {
   "cell_type": "code",
   "execution_count": 52,
   "id": "7cab31c8",
   "metadata": {},
   "outputs": [],
   "source": [
    "import sklearn.linear_model #import linear model"
   ]
  },
  {
   "cell_type": "code",
   "execution_count": 53,
   "id": "2d9880e9",
   "metadata": {},
   "outputs": [
    {
     "name": "stdout",
     "output_type": "stream",
     "text": [
      "Lasso Training Score : 0.0\n",
      "Lasso Testing Score  : -0.0002\n",
      "Lasso Train-Test Gap : 0.0002\n"
     ]
    },
    {
     "name": "stderr",
     "output_type": "stream",
     "text": [
      "/Users/mariushejemaehle/opt/anaconda3/lib/python3.9/site-packages/sklearn/linear_model/_base.py:141: FutureWarning: 'normalize' was deprecated in version 1.0 and will be removed in 1.2.\n",
      "If you wish to scale the data, use Pipeline with a StandardScaler in a preprocessing stage. To reproduce the previous behavior:\n",
      "\n",
      "from sklearn.pipeline import make_pipeline\n",
      "\n",
      "model = make_pipeline(StandardScaler(with_mean=False), Lasso())\n",
      "\n",
      "If you wish to pass a sample_weight parameter, you need to pass it as a fit parameter to each step of the pipeline as follows:\n",
      "\n",
      "kwargs = {s[0] + '__sample_weight': sample_weight for s in model.steps}\n",
      "model.fit(X, y, **kwargs)\n",
      "\n",
      "Set parameter alpha to: original_alpha * np.sqrt(n_samples). \n",
      "  warnings.warn(\n"
     ]
    }
   ],
   "source": [
    "# INSTANTIATING a model object\n",
    "lasso_model = sklearn.linear_model.Lasso(alpha = 1.0,\n",
    "                                         normalize = True) # default magitude\n",
    "\n",
    "\n",
    "# FITTING to the training data\n",
    "lasso_fit = lasso_model.fit(x_train_FULL, y_train_FULL)\n",
    "\n",
    "\n",
    "# PREDICTING on new data\n",
    "lasso_pred = lasso_fit.predict(x_test_FULL)\n",
    "\n",
    "\n",
    "# SCORING the results\n",
    "print('Lasso Training Score :', lasso_model.score(x_train_FULL, y_train_FULL).round(4))\n",
    "print('Lasso Testing Score  :', lasso_model.score(x_test_FULL, y_test_FULL).round(4))\n",
    "\n",
    "# saving scoring data for future use\n",
    "lasso_train_score = lasso_model.score(x_train_FULL, y_train_FULL).round(4) # using R-square\n",
    "lasso_test_score  = lasso_model.score(x_test_FULL, y_test_FULL).round(4)   # using R-square\n",
    "\n",
    "\n",
    "# displaying and saving the gap between training and testing\n",
    "print('Lasso Train-Test Gap :', abs(lasso_train_score - lasso_test_score).round(4))\n",
    "lasso_test_gap = abs(lasso_train_score - lasso_test_score).round(4)"
   ]
  },
  {
   "cell_type": "code",
   "execution_count": 54,
   "id": "b96e6778",
   "metadata": {},
   "outputs": [
    {
     "name": "stdout",
     "output_type": "stream",
     "text": [
      "('intercept', 8.05)\n",
      "('mage', -0.0)\n",
      "('meduc', 0.0)\n",
      "('monpre', 0.0)\n",
      "('npvis', 0.0)\n",
      "('fage', -0.0)\n",
      "('feduc', 0.0)\n",
      "('omaps', 0.0)\n",
      "('fmaps', 0.0)\n",
      "('cigs', -0.0)\n",
      "('drink', -0.0)\n",
      "('male', -0.0)\n",
      "('mwhte', -0.0)\n",
      "('mblck', 0.0)\n",
      "('moth', 0.0)\n",
      "('fwhte', -0.0)\n",
      "('fblck', 0.0)\n",
      "('foth', 0.0)\n",
      "('bwght', 0.0)\n"
     ]
    }
   ],
   "source": [
    "# zipping each feature name to its coefficient\n",
    "lasso_model_values = zip(birth_data.columns, lasso_fit.coef_.round(decimals = 2))\n",
    "\n",
    "\n",
    "# setting up a placeholder list to store model features\n",
    "lasso_model_lst = [('intercept', lasso_fit.intercept_.round(decimals = 2))]\n",
    "\n",
    "\n",
    "# printing out each feature-coefficient pair one by one\n",
    "for val in lasso_model_values:\n",
    "    lasso_model_lst.append(val)\n",
    "    \n",
    "\n",
    "# checking the results\n",
    "for pair in lasso_model_lst:\n",
    "    print(pair)"
   ]
  },
  {
   "cell_type": "code",
   "execution_count": 55,
   "id": "b884af96",
   "metadata": {},
   "outputs": [
    {
     "name": "stdout",
     "output_type": "stream",
     "text": [
      "('intercept', 8.05)\n",
      "('meduc', 0.0)\n",
      "('npvis', 0.0)\n",
      "('feduc', 0.0)\n",
      "('fmaps', 0.0)\n",
      "('drink', -0.0)\n",
      "('mwhte', -0.0)\n",
      "('moth', 0.0)\n",
      "('fblck', 0.0)\n",
      "('bwght', 0.0)\n"
     ]
    }
   ],
   "source": [
    "# dropping coefficients that are equal to zero\n",
    "\n",
    "# printing out each feature-coefficient pair one by one\n",
    "for feature, coefficient in lasso_model_lst:\n",
    "        \n",
    "        if coefficient == 0:\n",
    "            lasso_model_lst.remove((feature, coefficient))\n",
    "\n",
    "            \n",
    "# checking the results\n",
    "for pair in lasso_model_lst:\n",
    "    print(pair)"
   ]
  },
  {
   "cell_type": "markdown",
   "id": "e3060fec",
   "metadata": {},
   "source": [
    "# ARD"
   ]
  },
  {
   "cell_type": "code",
   "execution_count": 56,
   "id": "d1d2727f",
   "metadata": {},
   "outputs": [
    {
     "name": "stdout",
     "output_type": "stream",
     "text": [
      "Training Score: 0.3092\n",
      "Testing Score : 0.2688\n",
      "ARD Train-Test Gap : 0.0404\n"
     ]
    },
    {
     "name": "stderr",
     "output_type": "stream",
     "text": [
      "/Users/mariushejemaehle/opt/anaconda3/lib/python3.9/site-packages/sklearn/linear_model/_base.py:148: FutureWarning: 'normalize' was deprecated in version 1.0 and will be removed in 1.2. Please leave the normalize parameter to its default value to silence this warning. The default behavior of this estimator is to not do any normalization. If normalization is needed please use sklearn.preprocessing.StandardScaler instead.\n",
      "  warnings.warn(\n"
     ]
    }
   ],
   "source": [
    "# INSTANTIATING a model object\n",
    "ard_model = sklearn.linear_model.ARDRegression(normalize  = False)\n",
    "\n",
    "\n",
    "# FITTING the training data\n",
    "ard_fit = ard_model.fit(x_train_FULL, y_train_FULL)\n",
    "\n",
    "\n",
    "# PREDICTING on new data\n",
    "ard_pred = ard_fit.predict(x_test_FULL)\n",
    "\n",
    "\n",
    "print('Training Score:', ard_model.score(x_train_FULL, y_train_FULL).round(4))\n",
    "print('Testing Score :',  ard_model.score(x_test_FULL, y_test_FULL).round(4))\n",
    "\n",
    "\n",
    "# saving scoring data for future use\n",
    "ard_train_score = ard_model.score(x_train_FULL, y_train_FULL).round(4)\n",
    "ard_test_score  = ard_model.score(x_test_FULL, y_test_FULL).round(4)\n",
    "\n",
    "\n",
    "# displaying and saving the gap between training and testing\n",
    "print('ARD Train-Test Gap :', abs(ard_train_score - ard_test_score).round(4))\n",
    "ard_test_gap = abs(ard_train_score - ard_test_score).round(4)"
   ]
  },
  {
   "cell_type": "code",
   "execution_count": 57,
   "id": "9445f0fb",
   "metadata": {},
   "outputs": [
    {
     "name": "stdout",
     "output_type": "stream",
     "text": [
      "('intercept', 6.34)\n",
      "('mage', 0.0)\n",
      "('meduc', 0.0)\n",
      "('monpre', 0.0)\n",
      "('npvis', 0.0)\n",
      "('fage', 0.0)\n",
      "('feduc', 0.0)\n",
      "('omaps', 0.0)\n",
      "('fmaps', 0.18973)\n",
      "('cigs', 0.0)\n",
      "('drink', 0.0)\n",
      "('male', 0.04487)\n",
      "('mwhte', 0.0)\n",
      "('mblck', 0.0)\n",
      "('moth', 0.0)\n",
      "('fwhte', 0.0)\n",
      "('fblck', 0.0)\n",
      "('foth', 0.0)\n",
      "('bwght', 0.0)\n"
     ]
    }
   ],
   "source": [
    "# zipping each feature name to its coefficient\n",
    "ard_model_values = zip(birth_data.columns, ard_fit.coef_.round(decimals = 5))\n",
    "\n",
    "\n",
    "# setting up a placeholder list to store model features\n",
    "ard_model_lst = [('intercept', ard_fit.intercept_.round(decimals = 2))]\n",
    "\n",
    "\n",
    "# printing out each feature-coefficient pair one by one\n",
    "for val in ard_model_values:\n",
    "    ard_model_lst.append(val)\n",
    "    \n",
    "\n",
    "# checking the results\n",
    "for pair in ard_model_lst:\n",
    "    print(pair)"
   ]
  },
  {
   "cell_type": "code",
   "execution_count": 58,
   "id": "4768e842",
   "metadata": {
    "scrolled": true
   },
   "outputs": [
    {
     "name": "stdout",
     "output_type": "stream",
     "text": [
      "('intercept', 6.34)\n",
      "('meduc', 0.0)\n",
      "('npvis', 0.0)\n",
      "('feduc', 0.0)\n",
      "('fmaps', 0.18973)\n",
      "('drink', 0.0)\n",
      "('male', 0.04487)\n",
      "('mblck', 0.0)\n",
      "('fwhte', 0.0)\n",
      "('foth', 0.0)\n"
     ]
    }
   ],
   "source": [
    "# dropping coefficients that are equal to zero\n",
    "\n",
    "# printing out each feature-coefficient pair one by one\n",
    "for feature, coefficient in ard_model_lst:\n",
    "        \n",
    "        if coefficient == 0:\n",
    "            ard_model_lst.remove((feature, coefficient))\n",
    "\n",
    "            \n",
    "# checking the results\n",
    "for pair in ard_model_lst:\n",
    "    print(pair)"
   ]
  },
  {
   "cell_type": "markdown",
   "id": "3f7dbc1b",
   "metadata": {},
   "source": [
    "# Comparing Results\n",
    "- To choose the right model"
   ]
  },
  {
   "cell_type": "code",
   "execution_count": 59,
   "id": "b331168b",
   "metadata": {},
   "outputs": [
    {
     "name": "stdout",
     "output_type": "stream",
     "text": [
      "\n",
      "Comparing Results:\n",
      "\n",
      "Model       Train Score    Test Score      Train-Test Gap\n",
      "-----       -----------    ----------      ----------\n",
      "*OLS        0.6028         0.6481          0.0453\n",
      "Lasso       0.0           -0.0002          0.0002\n",
      "ARD         0.3092         0.2688          0.0404\n",
      "\n",
      "\n",
      "*FINAL MODEL\n"
     ]
    }
   ],
   "source": [
    "# comparing results from the different models\n",
    "print(f\"\"\"\n",
    "Comparing Results:\n",
    "\n",
    "Model       Train Score    Test Score      Train-Test Gap\n",
    "-----       -----------    ----------      ----------\n",
    "*OLS        {lr_train_score}         {lr_test_score}          {lr_test_gap}\n",
    "Lasso       {lasso_train_score}           {lasso_test_score}          {lasso_test_gap}\n",
    "ARD         {ard_train_score}         {ard_test_score}          {ard_test_gap}\n",
    "\n",
    "\n",
    "*FINAL MODEL\"\"\")\n",
    "\n",
    "# creating a dictionary for model results\n",
    "model_performance = {\n",
    "    \n",
    "    'Model Type'    : ['OLS', 'Lasso', 'ARD'],\n",
    "           \n",
    "    'Training' : [lr_train_score, lasso_train_score,\n",
    "                                   ard_train_score],\n",
    "           \n",
    "    'Testing'  : [lr_test_score, lasso_test_score,\n",
    "                                   ard_test_score],\n",
    "                    \n",
    "    'Train-Test Gap' : [lr_test_gap, lasso_test_gap,\n",
    "                                        ard_test_gap],\n",
    "                    \n",
    "    'Model Size' : [len(lr_model_lst), len(lasso_model_lst),\n",
    "                                    len(ard_model_lst)],\n",
    "                    \n",
    "    'Model' : [lr_model_lst, lasso_model_lst, ard_model_lst]}\n",
    "\n",
    "# converting model_performance into a DataFrame\n",
    "model_performance = pd.DataFrame(model_performance)\n",
    "\n",
    "\n",
    "#If needed, sending model results to Excel\n",
    "model_performance.to_excel('./__model_results/linear_model_performance.xlsx',\n",
    "                           index = False)\n",
    "\n",
    "### Model Predictions ###\n",
    "\n",
    "# The following code will generate an Excel file that outputs the birthweight,\n",
    "#the predictions for each model, and the deviations on each prediction.\n",
    "prediction_results = pd.DataFrame(data = {\n",
    "    'Birthweight'          : y_test_FULL,\n",
    "    'LR Predictions'       : lr_pred.round(decimals = 2),\n",
    "    'Lasso Predictions'    : lasso_pred.round(decimals = 2),\n",
    "    'ARD Predictions'      : ard_pred.round(decimals = 2),\n",
    "    'LR Deviation'         : lr_pred.round(decimals = 2) - y_test_FULL,\n",
    "    'Lasso Deviation'      : lasso_pred.round(decimals = 2) - y_test_FULL,\n",
    "    'ARD Deviation'        : ard_pred.round(decimals = 2) - y_test_FULL,\n",
    "    })\n",
    "\n",
    "#If needed, sending model results to Excel\n",
    "prediction_results.to_excel(excel_writer = './linear_model_predictions.xlsx',\n",
    "                            index = False)"
   ]
  }
 ],
 "metadata": {
  "kernelspec": {
   "display_name": "Python 3 (ipykernel)",
   "language": "python",
   "name": "python3"
  },
  "language_info": {
   "codemirror_mode": {
    "name": "ipython",
    "version": 3
   },
   "file_extension": ".py",
   "mimetype": "text/x-python",
   "name": "python",
   "nbconvert_exporter": "python",
   "pygments_lexer": "ipython3",
   "version": "3.9.7"
  },
  "toc": {
   "base_numbering": 1,
   "nav_menu": {},
   "number_sections": true,
   "sideBar": true,
   "skip_h1_title": false,
   "title_cell": "Table of Contents",
   "title_sidebar": "Contents",
   "toc_cell": false,
   "toc_position": {},
   "toc_section_display": true,
   "toc_window_display": false
  },
  "varInspector": {
   "cols": {
    "lenName": 16,
    "lenType": 16,
    "lenVar": 40
   },
   "kernels_config": {
    "python": {
     "delete_cmd_postfix": "",
     "delete_cmd_prefix": "del ",
     "library": "var_list.py",
     "varRefreshCmd": "print(var_dic_list())"
    },
    "r": {
     "delete_cmd_postfix": ") ",
     "delete_cmd_prefix": "rm(",
     "library": "var_list.r",
     "varRefreshCmd": "cat(var_dic_list()) "
    }
   },
   "types_to_exclude": [
    "module",
    "function",
    "builtin_function_or_method",
    "instance",
    "_Feature"
   ],
   "window_display": false
  }
 },
 "nbformat": 4,
 "nbformat_minor": 5
}
